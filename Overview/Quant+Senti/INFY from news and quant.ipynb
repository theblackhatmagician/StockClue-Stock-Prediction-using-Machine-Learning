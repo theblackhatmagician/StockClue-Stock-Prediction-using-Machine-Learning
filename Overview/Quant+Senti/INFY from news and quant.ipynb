{
 "cells": [
  {
   "cell_type": "code",
   "execution_count": 1,
   "metadata": {},
   "outputs": [],
   "source": [
    "import numpy as np\n",
    "import pandas as pd\n",
    "import matplotlib.pyplot as plt\n",
    "import seaborn as sns\n",
    "import re\n",
    "from nltk.sentiment.vader import SentimentIntensityAnalyzer\n",
    "import tensorflow as tf\n",
    "from tensorflow.keras.models import Sequential\n",
    "from tensorflow.keras.layers import LSTM, Dense, Dropout"
   ]
  },
  {
   "cell_type": "code",
   "execution_count": 55,
   "metadata": {},
   "outputs": [],
   "source": [
    "df1 = pd.read_csv('INFOSYS News.csv', index_col='Date', parse_dates=True)"
   ]
  },
  {
   "cell_type": "code",
   "execution_count": 56,
   "metadata": {
    "scrolled": false
   },
   "outputs": [
    {
     "name": "stdout",
     "output_type": "stream",
     "text": [
      "<class 'pandas.core.frame.DataFrame'>\n",
      "DatetimeIndex: 5756 entries, 2013-01-02 09:47:00 to 2017-12-28 22:08:00\n",
      "Data columns (total 9 columns):\n",
      " #   Column      Non-Null Count  Dtype \n",
      "---  ------      --------------  ----- \n",
      " 0   Unnamed: 0  5756 non-null   int64 \n",
      " 1   Company     5756 non-null   object\n",
      " 2   Source      5756 non-null   object\n",
      " 3   Category    5756 non-null   object\n",
      " 4   Author      5756 non-null   object\n",
      " 5   Title       5756 non-null   object\n",
      " 6   Tags        5756 non-null   object\n",
      " 7   Subtitle    5755 non-null   object\n",
      " 8   Content     5756 non-null   object\n",
      "dtypes: int64(1), object(8)\n",
      "memory usage: 449.7+ KB\n"
     ]
    }
   ],
   "source": [
    "df1.info()"
   ]
  },
  {
   "cell_type": "code",
   "execution_count": 57,
   "metadata": {},
   "outputs": [],
   "source": [
    "df1.dropna(inplace=True)\n",
    "df1.drop('Unnamed: 0', axis = 1, inplace=True)"
   ]
  },
  {
   "cell_type": "code",
   "execution_count": 58,
   "metadata": {},
   "outputs": [],
   "source": [
    "df1['date_only'] = df1.index.date"
   ]
  },
  {
   "cell_type": "code",
   "execution_count": 59,
   "metadata": {},
   "outputs": [],
   "source": [
    "df1.set_index('date_only', inplace=True)"
   ]
  },
  {
   "cell_type": "code",
   "execution_count": 60,
   "metadata": {},
   "outputs": [
    {
     "data": {
      "text/plain": [
       "Index([2013-01-02, 2013-01-03, 2013-01-04, 2013-01-06, 2013-01-07, 2013-01-08,\n",
       "       2013-01-09, 2013-01-10, 2013-01-11, 2013-01-14,\n",
       "       ...\n",
       "       2017-05-10, 2017-05-17, 2017-06-03, 2017-07-16, 2017-08-14, 2017-09-17,\n",
       "       2017-11-09, 2017-11-18, 2017-11-25, 2017-12-28],\n",
       "      dtype='object', name='date_only', length=1395)"
      ]
     },
     "execution_count": 60,
     "metadata": {},
     "output_type": "execute_result"
    }
   ],
   "source": [
    "df1.index.unique()"
   ]
  },
  {
   "cell_type": "code",
   "execution_count": 61,
   "metadata": {
    "scrolled": false
   },
   "outputs": [
    {
     "data": {
      "text/html": [
       "<div>\n",
       "<style scoped>\n",
       "    .dataframe tbody tr th:only-of-type {\n",
       "        vertical-align: middle;\n",
       "    }\n",
       "\n",
       "    .dataframe tbody tr th {\n",
       "        vertical-align: top;\n",
       "    }\n",
       "\n",
       "    .dataframe thead th {\n",
       "        text-align: right;\n",
       "    }\n",
       "</style>\n",
       "<table border=\"1\" class=\"dataframe\">\n",
       "  <thead>\n",
       "    <tr style=\"text-align: right;\">\n",
       "      <th></th>\n",
       "      <th>Company</th>\n",
       "      <th>Source</th>\n",
       "      <th>Category</th>\n",
       "      <th>Author</th>\n",
       "      <th>Title</th>\n",
       "      <th>Tags</th>\n",
       "      <th>Subtitle</th>\n",
       "      <th>Content</th>\n",
       "    </tr>\n",
       "    <tr>\n",
       "      <th>date_only</th>\n",
       "      <th></th>\n",
       "      <th></th>\n",
       "      <th></th>\n",
       "      <th></th>\n",
       "      <th></th>\n",
       "      <th></th>\n",
       "      <th></th>\n",
       "      <th></th>\n",
       "    </tr>\n",
       "  </thead>\n",
       "  <tbody>\n",
       "    <tr>\n",
       "      <th>2013-01-02</th>\n",
       "      <td>INFOSYS</td>\n",
       "      <td>econominc-times</td>\n",
       "      <td>['Markets', 'Stocks', 'Earnings']</td>\n",
       "      <td>['ByRanjit Shinde, ET Bureau']</td>\n",
       "      <td>['Stronger rupee to impact IT companies like T...</td>\n",
       "      <td>['Rupee', 'IT', 'dollar', 'IT services', 'Info...</td>\n",
       "      <td>[]</td>\n",
       "      <td>[\"India's topIT servicesexporters are expected...</td>\n",
       "    </tr>\n",
       "    <tr>\n",
       "      <th>2013-01-02</th>\n",
       "      <td>INFOSYS</td>\n",
       "      <td>econominc-times</td>\n",
       "      <td>['Markets', 'Stocks', 'Earnings']</td>\n",
       "      <td>['ByShilpa Phadnis, TNN']</td>\n",
       "      <td>['Infosys likely to cut revenue guidance']</td>\n",
       "      <td>['environment', 'insurance', 'Financial Servic...</td>\n",
       "      <td>[]</td>\n",
       "      <td>['BANGALORE: The results season is likely to b...</td>\n",
       "    </tr>\n",
       "    <tr>\n",
       "      <th>2013-01-03</th>\n",
       "      <td>INFOSYS</td>\n",
       "      <td>econominc-times</td>\n",
       "      <td>['Markets', 'Stocks', 'News']</td>\n",
       "      <td>['ET Online']</td>\n",
       "      <td>[\"BofA-ML cuts Infosys' earning estimates, tar...</td>\n",
       "      <td>['Infosys', 'Merrill Lynch', 'Bank of America']</td>\n",
       "      <td>[]</td>\n",
       "      <td>['MUMBAI: Bank of AmericaMerrill Lynchhas redu...</td>\n",
       "    </tr>\n",
       "  </tbody>\n",
       "</table>\n",
       "</div>"
      ],
      "text/plain": [
       "            Company           Source                           Category  \\\n",
       "date_only                                                                 \n",
       "2013-01-02  INFOSYS  econominc-times  ['Markets', 'Stocks', 'Earnings']   \n",
       "2013-01-02  INFOSYS  econominc-times  ['Markets', 'Stocks', 'Earnings']   \n",
       "2013-01-03  INFOSYS  econominc-times      ['Markets', 'Stocks', 'News']   \n",
       "\n",
       "                                    Author  \\\n",
       "date_only                                    \n",
       "2013-01-02  ['ByRanjit Shinde, ET Bureau']   \n",
       "2013-01-02       ['ByShilpa Phadnis, TNN']   \n",
       "2013-01-03                   ['ET Online']   \n",
       "\n",
       "                                                        Title  \\\n",
       "date_only                                                       \n",
       "2013-01-02  ['Stronger rupee to impact IT companies like T...   \n",
       "2013-01-02         ['Infosys likely to cut revenue guidance']   \n",
       "2013-01-03  [\"BofA-ML cuts Infosys' earning estimates, tar...   \n",
       "\n",
       "                                                         Tags Subtitle  \\\n",
       "date_only                                                                \n",
       "2013-01-02  ['Rupee', 'IT', 'dollar', 'IT services', 'Info...       []   \n",
       "2013-01-02  ['environment', 'insurance', 'Financial Servic...       []   \n",
       "2013-01-03    ['Infosys', 'Merrill Lynch', 'Bank of America']       []   \n",
       "\n",
       "                                                      Content  \n",
       "date_only                                                      \n",
       "2013-01-02  [\"India's topIT servicesexporters are expected...  \n",
       "2013-01-02  ['BANGALORE: The results season is likely to b...  \n",
       "2013-01-03  ['MUMBAI: Bank of AmericaMerrill Lynchhas redu...  "
      ]
     },
     "execution_count": 61,
     "metadata": {},
     "output_type": "execute_result"
    }
   ],
   "source": [
    "df1.head(3)"
   ]
  },
  {
   "cell_type": "code",
   "execution_count": 62,
   "metadata": {},
   "outputs": [],
   "source": [
    "df1 = df1.groupby(df1.index).apply(lambda x :\". \".join(x['Title'])).to_frame()"
   ]
  },
  {
   "cell_type": "code",
   "execution_count": 63,
   "metadata": {},
   "outputs": [
    {
     "data": {
      "text/html": [
       "<div>\n",
       "<style scoped>\n",
       "    .dataframe tbody tr th:only-of-type {\n",
       "        vertical-align: middle;\n",
       "    }\n",
       "\n",
       "    .dataframe tbody tr th {\n",
       "        vertical-align: top;\n",
       "    }\n",
       "\n",
       "    .dataframe thead th {\n",
       "        text-align: right;\n",
       "    }\n",
       "</style>\n",
       "<table border=\"1\" class=\"dataframe\">\n",
       "  <thead>\n",
       "    <tr style=\"text-align: right;\">\n",
       "      <th></th>\n",
       "      <th>0</th>\n",
       "    </tr>\n",
       "    <tr>\n",
       "      <th>date_only</th>\n",
       "      <th></th>\n",
       "    </tr>\n",
       "  </thead>\n",
       "  <tbody>\n",
       "    <tr>\n",
       "      <th>2013-01-02</th>\n",
       "      <td>['Stronger rupee to impact IT companies like T...</td>\n",
       "    </tr>\n",
       "    <tr>\n",
       "      <th>2013-01-03</th>\n",
       "      <td>[\"BofA-ML cuts Infosys' earning estimates, tar...</td>\n",
       "    </tr>\n",
       "    <tr>\n",
       "      <th>2013-01-04</th>\n",
       "      <td>['Brokers? call: GMDC, United Breweries and IT...</td>\n",
       "    </tr>\n",
       "  </tbody>\n",
       "</table>\n",
       "</div>"
      ],
      "text/plain": [
       "                                                            0\n",
       "date_only                                                    \n",
       "2013-01-02  ['Stronger rupee to impact IT companies like T...\n",
       "2013-01-03  [\"BofA-ML cuts Infosys' earning estimates, tar...\n",
       "2013-01-04  ['Brokers? call: GMDC, United Breweries and IT..."
      ]
     },
     "execution_count": 63,
     "metadata": {},
     "output_type": "execute_result"
    }
   ],
   "source": [
    "df1.head(3)"
   ]
  },
  {
   "cell_type": "code",
   "execution_count": 64,
   "metadata": {},
   "outputs": [],
   "source": [
    "df2 = pd.read_csv('INFY.NS.csv', index_col=0, parse_dates=True)"
   ]
  },
  {
   "cell_type": "code",
   "execution_count": 65,
   "metadata": {},
   "outputs": [
    {
     "name": "stdout",
     "output_type": "stream",
     "text": [
      "<class 'pandas.core.frame.DataFrame'>\n",
      "DatetimeIndex: 5368 entries, 2000-01-03 to 2021-06-11\n",
      "Data columns (total 6 columns):\n",
      " #   Column     Non-Null Count  Dtype  \n",
      "---  ------     --------------  -----  \n",
      " 0   Open       5354 non-null   float64\n",
      " 1   High       5354 non-null   float64\n",
      " 2   Low        5354 non-null   float64\n",
      " 3   Close      5354 non-null   float64\n",
      " 4   Adj Close  5354 non-null   float64\n",
      " 5   Volume     5354 non-null   float64\n",
      "dtypes: float64(6)\n",
      "memory usage: 293.6 KB\n"
     ]
    }
   ],
   "source": [
    "df2.info()"
   ]
  },
  {
   "cell_type": "code",
   "execution_count": 66,
   "metadata": {},
   "outputs": [
    {
     "data": {
      "text/html": [
       "<div>\n",
       "<style scoped>\n",
       "    .dataframe tbody tr th:only-of-type {\n",
       "        vertical-align: middle;\n",
       "    }\n",
       "\n",
       "    .dataframe tbody tr th {\n",
       "        vertical-align: top;\n",
       "    }\n",
       "\n",
       "    .dataframe thead th {\n",
       "        text-align: right;\n",
       "    }\n",
       "</style>\n",
       "<table border=\"1\" class=\"dataframe\">\n",
       "  <thead>\n",
       "    <tr style=\"text-align: right;\">\n",
       "      <th></th>\n",
       "      <th>Open</th>\n",
       "      <th>High</th>\n",
       "      <th>Low</th>\n",
       "      <th>Close</th>\n",
       "      <th>Adj Close</th>\n",
       "      <th>Volume</th>\n",
       "    </tr>\n",
       "  </thead>\n",
       "  <tbody>\n",
       "    <tr>\n",
       "      <th>count</th>\n",
       "      <td>5354.000000</td>\n",
       "      <td>5354.000000</td>\n",
       "      <td>5354.000000</td>\n",
       "      <td>5354.000000</td>\n",
       "      <td>5354.000000</td>\n",
       "      <td>5.354000e+03</td>\n",
       "    </tr>\n",
       "    <tr>\n",
       "      <th>mean</th>\n",
       "      <td>353.262357</td>\n",
       "      <td>357.509706</td>\n",
       "      <td>348.891815</td>\n",
       "      <td>353.181691</td>\n",
       "      <td>304.811766</td>\n",
       "      <td>1.657948e+07</td>\n",
       "    </tr>\n",
       "    <tr>\n",
       "      <th>std</th>\n",
       "      <td>271.358694</td>\n",
       "      <td>274.055689</td>\n",
       "      <td>268.706088</td>\n",
       "      <td>271.339401</td>\n",
       "      <td>268.505718</td>\n",
       "      <td>1.674176e+07</td>\n",
       "    </tr>\n",
       "    <tr>\n",
       "      <th>min</th>\n",
       "      <td>33.984375</td>\n",
       "      <td>36.356251</td>\n",
       "      <td>33.049217</td>\n",
       "      <td>34.177341</td>\n",
       "      <td>24.045198</td>\n",
       "      <td>0.000000e+00</td>\n",
       "    </tr>\n",
       "    <tr>\n",
       "      <th>25%</th>\n",
       "      <td>136.859375</td>\n",
       "      <td>139.203125</td>\n",
       "      <td>134.375000</td>\n",
       "      <td>136.641407</td>\n",
       "      <td>99.482559</td>\n",
       "      <td>6.664202e+06</td>\n",
       "    </tr>\n",
       "    <tr>\n",
       "      <th>50%</th>\n",
       "      <td>298.859375</td>\n",
       "      <td>302.625000</td>\n",
       "      <td>295.568756</td>\n",
       "      <td>298.850006</td>\n",
       "      <td>240.004173</td>\n",
       "      <td>1.025965e+07</td>\n",
       "    </tr>\n",
       "    <tr>\n",
       "      <th>75%</th>\n",
       "      <td>500.390633</td>\n",
       "      <td>504.759384</td>\n",
       "      <td>494.468750</td>\n",
       "      <td>499.343750</td>\n",
       "      <td>438.275498</td>\n",
       "      <td>1.983584e+07</td>\n",
       "    </tr>\n",
       "    <tr>\n",
       "      <th>max</th>\n",
       "      <td>1474.000000</td>\n",
       "      <td>1477.550049</td>\n",
       "      <td>1430.050049</td>\n",
       "      <td>1446.900024</td>\n",
       "      <td>1446.900024</td>\n",
       "      <td>2.766150e+08</td>\n",
       "    </tr>\n",
       "  </tbody>\n",
       "</table>\n",
       "</div>"
      ],
      "text/plain": [
       "              Open         High          Low        Close    Adj Close  \\\n",
       "count  5354.000000  5354.000000  5354.000000  5354.000000  5354.000000   \n",
       "mean    353.262357   357.509706   348.891815   353.181691   304.811766   \n",
       "std     271.358694   274.055689   268.706088   271.339401   268.505718   \n",
       "min      33.984375    36.356251    33.049217    34.177341    24.045198   \n",
       "25%     136.859375   139.203125   134.375000   136.641407    99.482559   \n",
       "50%     298.859375   302.625000   295.568756   298.850006   240.004173   \n",
       "75%     500.390633   504.759384   494.468750   499.343750   438.275498   \n",
       "max    1474.000000  1477.550049  1430.050049  1446.900024  1446.900024   \n",
       "\n",
       "             Volume  \n",
       "count  5.354000e+03  \n",
       "mean   1.657948e+07  \n",
       "std    1.674176e+07  \n",
       "min    0.000000e+00  \n",
       "25%    6.664202e+06  \n",
       "50%    1.025965e+07  \n",
       "75%    1.983584e+07  \n",
       "max    2.766150e+08  "
      ]
     },
     "execution_count": 66,
     "metadata": {},
     "output_type": "execute_result"
    }
   ],
   "source": [
    "df2.describe()"
   ]
  },
  {
   "cell_type": "code",
   "execution_count": 67,
   "metadata": {
    "scrolled": true
   },
   "outputs": [
    {
     "data": {
      "text/html": [
       "<div>\n",
       "<style scoped>\n",
       "    .dataframe tbody tr th:only-of-type {\n",
       "        vertical-align: middle;\n",
       "    }\n",
       "\n",
       "    .dataframe tbody tr th {\n",
       "        vertical-align: top;\n",
       "    }\n",
       "\n",
       "    .dataframe thead th {\n",
       "        text-align: right;\n",
       "    }\n",
       "</style>\n",
       "<table border=\"1\" class=\"dataframe\">\n",
       "  <thead>\n",
       "    <tr style=\"text-align: right;\">\n",
       "      <th></th>\n",
       "      <th>Open</th>\n",
       "      <th>High</th>\n",
       "      <th>Low</th>\n",
       "      <th>Close</th>\n",
       "      <th>Adj Close</th>\n",
       "      <th>Volume</th>\n",
       "    </tr>\n",
       "    <tr>\n",
       "      <th>Date</th>\n",
       "      <th></th>\n",
       "      <th></th>\n",
       "      <th></th>\n",
       "      <th></th>\n",
       "      <th></th>\n",
       "      <th></th>\n",
       "    </tr>\n",
       "  </thead>\n",
       "  <tbody>\n",
       "    <tr>\n",
       "      <th>2000-01-03</th>\n",
       "      <td>122.070313</td>\n",
       "      <td>122.071877</td>\n",
       "      <td>122.070313</td>\n",
       "      <td>122.071877</td>\n",
       "      <td>85.644699</td>\n",
       "      <td>657536.0</td>\n",
       "    </tr>\n",
       "    <tr>\n",
       "      <th>2000-01-04</th>\n",
       "      <td>131.250000</td>\n",
       "      <td>131.837891</td>\n",
       "      <td>126.976563</td>\n",
       "      <td>131.686722</td>\n",
       "      <td>92.390434</td>\n",
       "      <td>7191808.0</td>\n",
       "    </tr>\n",
       "    <tr>\n",
       "      <th>2000-01-05</th>\n",
       "      <td>122.664063</td>\n",
       "      <td>126.953125</td>\n",
       "      <td>121.151955</td>\n",
       "      <td>121.151955</td>\n",
       "      <td>84.999306</td>\n",
       "      <td>21069440.0</td>\n",
       "    </tr>\n",
       "  </tbody>\n",
       "</table>\n",
       "</div>"
      ],
      "text/plain": [
       "                  Open        High         Low       Close  Adj Close  \\\n",
       "Date                                                                    \n",
       "2000-01-03  122.070313  122.071877  122.070313  122.071877  85.644699   \n",
       "2000-01-04  131.250000  131.837891  126.976563  131.686722  92.390434   \n",
       "2000-01-05  122.664063  126.953125  121.151955  121.151955  84.999306   \n",
       "\n",
       "                Volume  \n",
       "Date                    \n",
       "2000-01-03    657536.0  \n",
       "2000-01-04   7191808.0  \n",
       "2000-01-05  21069440.0  "
      ]
     },
     "execution_count": 67,
     "metadata": {},
     "output_type": "execute_result"
    }
   ],
   "source": [
    "df2.head(3)"
   ]
  },
  {
   "cell_type": "code",
   "execution_count": 68,
   "metadata": {
    "scrolled": true
   },
   "outputs": [
    {
     "data": {
      "text/plain": [
       "(1394, 1)"
      ]
     },
     "execution_count": 68,
     "metadata": {},
     "output_type": "execute_result"
    }
   ],
   "source": [
    "df1.shape"
   ]
  },
  {
   "cell_type": "code",
   "execution_count": 69,
   "metadata": {},
   "outputs": [
    {
     "data": {
      "text/plain": [
       "(5368, 6)"
      ]
     },
     "execution_count": 69,
     "metadata": {},
     "output_type": "execute_result"
    }
   ],
   "source": [
    "df2.shape"
   ]
  },
  {
   "cell_type": "code",
   "execution_count": 70,
   "metadata": {},
   "outputs": [],
   "source": [
    "merge_df = pd.merge(df1, df2, how='inner', left_index=True, right_index=True)"
   ]
  },
  {
   "cell_type": "code",
   "execution_count": 71,
   "metadata": {},
   "outputs": [
    {
     "data": {
      "text/html": [
       "<div>\n",
       "<style scoped>\n",
       "    .dataframe tbody tr th:only-of-type {\n",
       "        vertical-align: middle;\n",
       "    }\n",
       "\n",
       "    .dataframe tbody tr th {\n",
       "        vertical-align: top;\n",
       "    }\n",
       "\n",
       "    .dataframe thead th {\n",
       "        text-align: right;\n",
       "    }\n",
       "</style>\n",
       "<table border=\"1\" class=\"dataframe\">\n",
       "  <thead>\n",
       "    <tr style=\"text-align: right;\">\n",
       "      <th></th>\n",
       "      <th>0</th>\n",
       "      <th>Open</th>\n",
       "      <th>High</th>\n",
       "      <th>Low</th>\n",
       "      <th>Close</th>\n",
       "      <th>Adj Close</th>\n",
       "      <th>Volume</th>\n",
       "    </tr>\n",
       "  </thead>\n",
       "  <tbody>\n",
       "    <tr>\n",
       "      <th>2013-01-02</th>\n",
       "      <td>['Stronger rupee to impact IT companies like T...</td>\n",
       "      <td>289.524994</td>\n",
       "      <td>291.000000</td>\n",
       "      <td>287.937500</td>\n",
       "      <td>288.649994</td>\n",
       "      <td>233.854797</td>\n",
       "      <td>4349944.0</td>\n",
       "    </tr>\n",
       "    <tr>\n",
       "      <th>2013-01-03</th>\n",
       "      <td>[\"BofA-ML cuts Infosys' earning estimates, tar...</td>\n",
       "      <td>289.375000</td>\n",
       "      <td>293.606262</td>\n",
       "      <td>288.875000</td>\n",
       "      <td>292.237488</td>\n",
       "      <td>236.761337</td>\n",
       "      <td>10599288.0</td>\n",
       "    </tr>\n",
       "    <tr>\n",
       "      <th>2013-01-04</th>\n",
       "      <td>['Brokers? call: GMDC, United Breweries and IT...</td>\n",
       "      <td>293.549988</td>\n",
       "      <td>294.368744</td>\n",
       "      <td>291.500000</td>\n",
       "      <td>293.693756</td>\n",
       "      <td>237.941101</td>\n",
       "      <td>8454008.0</td>\n",
       "    </tr>\n",
       "    <tr>\n",
       "      <th>2013-01-07</th>\n",
       "      <td>['Infosys, Cairn, Maruti Suzuki top investor r...</td>\n",
       "      <td>293.887512</td>\n",
       "      <td>297.487488</td>\n",
       "      <td>291.943756</td>\n",
       "      <td>296.850006</td>\n",
       "      <td>240.498215</td>\n",
       "      <td>8761624.0</td>\n",
       "    </tr>\n",
       "    <tr>\n",
       "      <th>2013-01-08</th>\n",
       "      <td>['Infosys Ltd is a ?buy?: Mitesh Thacker']. ['...</td>\n",
       "      <td>295.625000</td>\n",
       "      <td>295.993744</td>\n",
       "      <td>290.437500</td>\n",
       "      <td>293.000000</td>\n",
       "      <td>237.379059</td>\n",
       "      <td>12867424.0</td>\n",
       "    </tr>\n",
       "  </tbody>\n",
       "</table>\n",
       "</div>"
      ],
      "text/plain": [
       "                                                            0        Open  \\\n",
       "2013-01-02  ['Stronger rupee to impact IT companies like T...  289.524994   \n",
       "2013-01-03  [\"BofA-ML cuts Infosys' earning estimates, tar...  289.375000   \n",
       "2013-01-04  ['Brokers? call: GMDC, United Breweries and IT...  293.549988   \n",
       "2013-01-07  ['Infosys, Cairn, Maruti Suzuki top investor r...  293.887512   \n",
       "2013-01-08  ['Infosys Ltd is a ?buy?: Mitesh Thacker']. ['...  295.625000   \n",
       "\n",
       "                  High         Low       Close   Adj Close      Volume  \n",
       "2013-01-02  291.000000  287.937500  288.649994  233.854797   4349944.0  \n",
       "2013-01-03  293.606262  288.875000  292.237488  236.761337  10599288.0  \n",
       "2013-01-04  294.368744  291.500000  293.693756  237.941101   8454008.0  \n",
       "2013-01-07  297.487488  291.943756  296.850006  240.498215   8761624.0  \n",
       "2013-01-08  295.993744  290.437500  293.000000  237.379059  12867424.0  "
      ]
     },
     "execution_count": 71,
     "metadata": {},
     "output_type": "execute_result"
    }
   ],
   "source": [
    "merge_df.head()"
   ]
  },
  {
   "cell_type": "code",
   "execution_count": 72,
   "metadata": {},
   "outputs": [
    {
     "name": "stdout",
     "output_type": "stream",
     "text": [
      "<class 'pandas.core.frame.DataFrame'>\n",
      "DatetimeIndex: 1081 entries, 2013-01-02 to 2018-02-28\n",
      "Data columns (total 7 columns):\n",
      " #   Column     Non-Null Count  Dtype  \n",
      "---  ------     --------------  -----  \n",
      " 0   0          1081 non-null   object \n",
      " 1   Open       1079 non-null   float64\n",
      " 2   High       1079 non-null   float64\n",
      " 3   Low        1079 non-null   float64\n",
      " 4   Close      1079 non-null   float64\n",
      " 5   Adj Close  1079 non-null   float64\n",
      " 6   Volume     1079 non-null   float64\n",
      "dtypes: float64(6), object(1)\n",
      "memory usage: 67.6+ KB\n"
     ]
    }
   ],
   "source": [
    "merge_df.info()"
   ]
  },
  {
   "cell_type": "code",
   "execution_count": 73,
   "metadata": {},
   "outputs": [],
   "source": [
    "merge_df.dropna(inplace=True)"
   ]
  },
  {
   "cell_type": "code",
   "execution_count": 74,
   "metadata": {},
   "outputs": [
    {
     "data": {
      "text/plain": [
       "(1079, 7)"
      ]
     },
     "execution_count": 74,
     "metadata": {},
     "output_type": "execute_result"
    }
   ],
   "source": [
    "merge_df.shape"
   ]
  },
  {
   "cell_type": "code",
   "execution_count": 75,
   "metadata": {},
   "outputs": [
    {
     "name": "stdout",
     "output_type": "stream",
     "text": [
      "Macro data, Infosys & TCS Q3 nos to keep investors busy next wk\n"
     ]
    }
   ],
   "source": [
    "tmp = merge_df[0].iloc[np.random.randint(merge_df.index.shape[0])]\n",
    "def clean_text(text):\n",
    "    text = re.sub(r\"\\b\\?s\", \"'s\", text)\n",
    "    text = re.sub(r\"\\\\+\", \"\", text)\n",
    "    text = re.sub(r\"\\\"\", \"\", text)\n",
    "    text = re.sub(r\"\\'?(\\[|\\])\\'?\", \"\", text)\n",
    "    return text\n",
    "\n",
    "print(clean_text(tmp))\n"
   ]
  },
  {
   "cell_type": "code",
   "execution_count": 76,
   "metadata": {},
   "outputs": [],
   "source": [
    "merge_df[0] = merge_df[0].apply(clean_text)"
   ]
  },
  {
   "cell_type": "code",
   "execution_count": 77,
   "metadata": {
    "scrolled": true
   },
   "outputs": [
    {
     "data": {
      "text/plain": [
       "'Infosys Ltd is a ?buy?: Mitesh Thacker. Infosys valuations trail TCS, Wipro, HCL Technologies. Infosys stock will depend on Q3 earnings. Revenue growth of TCS, Infosys, Wipro, HCL to remain modest: Analysts'"
      ]
     },
     "execution_count": 77,
     "metadata": {},
     "output_type": "execute_result"
    }
   ],
   "source": [
    "merge_df.iloc[4][0]"
   ]
  },
  {
   "cell_type": "markdown",
   "metadata": {},
   "source": [
    " ### [Sentiment Analyzer](https://www.kaggle.com/hassanamin/unsupervised-sentiment-analysis-using-vader)"
   ]
  },
  {
   "cell_type": "code",
   "execution_count": 25,
   "metadata": {
    "scrolled": false
   },
   "outputs": [],
   "source": [
    "# import nltk\n",
    "# nltk.download('vader_lexicon')"
   ]
  },
  {
   "cell_type": "code",
   "execution_count": 26,
   "metadata": {},
   "outputs": [],
   "source": [
    "analyser = SentimentIntensityAnalyzer()"
   ]
  },
  {
   "cell_type": "code",
   "execution_count": 27,
   "metadata": {
    "scrolled": false
   },
   "outputs": [
    {
     "data": {
      "text/plain": [
       "{'neg': 0.0, 'neu': 0.91, 'pos': 0.09, 'compound': 0.4515}"
      ]
     },
     "execution_count": 27,
     "metadata": {},
     "output_type": "execute_result"
    }
   ],
   "source": [
    "analyser.polarity_scores(merge_df.iloc[4][0])"
   ]
  },
  {
   "cell_type": "code",
   "execution_count": 28,
   "metadata": {},
   "outputs": [],
   "source": [
    "merge_df['scores'] = merge_df[0].apply(analyser.polarity_scores)\n",
    "merge_df = pd.concat([merge_df.drop(['scores', 0], axis=1), merge_df['scores'].apply(pd.Series)], axis=1)"
   ]
  },
  {
   "cell_type": "code",
   "execution_count": 29,
   "metadata": {
    "scrolled": true
   },
   "outputs": [
    {
     "data": {
      "text/html": [
       "<div>\n",
       "<style scoped>\n",
       "    .dataframe tbody tr th:only-of-type {\n",
       "        vertical-align: middle;\n",
       "    }\n",
       "\n",
       "    .dataframe tbody tr th {\n",
       "        vertical-align: top;\n",
       "    }\n",
       "\n",
       "    .dataframe thead th {\n",
       "        text-align: right;\n",
       "    }\n",
       "</style>\n",
       "<table border=\"1\" class=\"dataframe\">\n",
       "  <thead>\n",
       "    <tr style=\"text-align: right;\">\n",
       "      <th></th>\n",
       "      <th>Open</th>\n",
       "      <th>High</th>\n",
       "      <th>Low</th>\n",
       "      <th>Close</th>\n",
       "      <th>Adj Close</th>\n",
       "      <th>Volume</th>\n",
       "      <th>neg</th>\n",
       "      <th>neu</th>\n",
       "      <th>pos</th>\n",
       "      <th>compound</th>\n",
       "    </tr>\n",
       "  </thead>\n",
       "  <tbody>\n",
       "    <tr>\n",
       "      <th>2013-01-02</th>\n",
       "      <td>289.524994</td>\n",
       "      <td>291.000000</td>\n",
       "      <td>287.937500</td>\n",
       "      <td>288.649994</td>\n",
       "      <td>233.854797</td>\n",
       "      <td>4349944.0</td>\n",
       "      <td>0.071</td>\n",
       "      <td>0.572</td>\n",
       "      <td>0.357</td>\n",
       "      <td>0.8176</td>\n",
       "    </tr>\n",
       "    <tr>\n",
       "      <th>2013-01-03</th>\n",
       "      <td>289.375000</td>\n",
       "      <td>293.606262</td>\n",
       "      <td>288.875000</td>\n",
       "      <td>292.237488</td>\n",
       "      <td>236.761337</td>\n",
       "      <td>10599288.0</td>\n",
       "      <td>0.076</td>\n",
       "      <td>0.825</td>\n",
       "      <td>0.100</td>\n",
       "      <td>0.1779</td>\n",
       "    </tr>\n",
       "    <tr>\n",
       "      <th>2013-01-04</th>\n",
       "      <td>293.549988</td>\n",
       "      <td>294.368744</td>\n",
       "      <td>291.500000</td>\n",
       "      <td>293.693756</td>\n",
       "      <td>237.941101</td>\n",
       "      <td>8454008.0</td>\n",
       "      <td>0.064</td>\n",
       "      <td>0.796</td>\n",
       "      <td>0.141</td>\n",
       "      <td>0.4404</td>\n",
       "    </tr>\n",
       "    <tr>\n",
       "      <th>2013-01-07</th>\n",
       "      <td>293.887512</td>\n",
       "      <td>297.487488</td>\n",
       "      <td>291.943756</td>\n",
       "      <td>296.850006</td>\n",
       "      <td>240.498215</td>\n",
       "      <td>8761624.0</td>\n",
       "      <td>0.000</td>\n",
       "      <td>0.907</td>\n",
       "      <td>0.093</td>\n",
       "      <td>0.5106</td>\n",
       "    </tr>\n",
       "    <tr>\n",
       "      <th>2013-01-08</th>\n",
       "      <td>295.625000</td>\n",
       "      <td>295.993744</td>\n",
       "      <td>290.437500</td>\n",
       "      <td>293.000000</td>\n",
       "      <td>237.379059</td>\n",
       "      <td>12867424.0</td>\n",
       "      <td>0.000</td>\n",
       "      <td>0.910</td>\n",
       "      <td>0.090</td>\n",
       "      <td>0.4515</td>\n",
       "    </tr>\n",
       "  </tbody>\n",
       "</table>\n",
       "</div>"
      ],
      "text/plain": [
       "                  Open        High         Low       Close   Adj Close  \\\n",
       "2013-01-02  289.524994  291.000000  287.937500  288.649994  233.854797   \n",
       "2013-01-03  289.375000  293.606262  288.875000  292.237488  236.761337   \n",
       "2013-01-04  293.549988  294.368744  291.500000  293.693756  237.941101   \n",
       "2013-01-07  293.887512  297.487488  291.943756  296.850006  240.498215   \n",
       "2013-01-08  295.625000  295.993744  290.437500  293.000000  237.379059   \n",
       "\n",
       "                Volume    neg    neu    pos  compound  \n",
       "2013-01-02   4349944.0  0.071  0.572  0.357    0.8176  \n",
       "2013-01-03  10599288.0  0.076  0.825  0.100    0.1779  \n",
       "2013-01-04   8454008.0  0.064  0.796  0.141    0.4404  \n",
       "2013-01-07   8761624.0  0.000  0.907  0.093    0.5106  \n",
       "2013-01-08  12867424.0  0.000  0.910  0.090    0.4515  "
      ]
     },
     "execution_count": 29,
     "metadata": {},
     "output_type": "execute_result"
    }
   ],
   "source": [
    "merge_df.head()"
   ]
  },
  {
   "cell_type": "code",
   "execution_count": 30,
   "metadata": {
    "scrolled": false
   },
   "outputs": [
    {
     "data": {
      "text/html": [
       "<div>\n",
       "<style scoped>\n",
       "    .dataframe tbody tr th:only-of-type {\n",
       "        vertical-align: middle;\n",
       "    }\n",
       "\n",
       "    .dataframe tbody tr th {\n",
       "        vertical-align: top;\n",
       "    }\n",
       "\n",
       "    .dataframe thead th {\n",
       "        text-align: right;\n",
       "    }\n",
       "</style>\n",
       "<table border=\"1\" class=\"dataframe\">\n",
       "  <thead>\n",
       "    <tr style=\"text-align: right;\">\n",
       "      <th></th>\n",
       "      <th>Open</th>\n",
       "      <th>High</th>\n",
       "      <th>Low</th>\n",
       "      <th>Close</th>\n",
       "      <th>Adj Close</th>\n",
       "      <th>Volume</th>\n",
       "      <th>neg</th>\n",
       "      <th>neu</th>\n",
       "      <th>pos</th>\n",
       "      <th>compound</th>\n",
       "    </tr>\n",
       "  </thead>\n",
       "  <tbody>\n",
       "    <tr>\n",
       "      <th>count</th>\n",
       "      <td>1079.000000</td>\n",
       "      <td>1079.000000</td>\n",
       "      <td>1079.000000</td>\n",
       "      <td>1079.000000</td>\n",
       "      <td>1079.000000</td>\n",
       "      <td>1.079000e+03</td>\n",
       "      <td>1079.000000</td>\n",
       "      <td>1079.000000</td>\n",
       "      <td>1079.000000</td>\n",
       "      <td>1079.000000</td>\n",
       "    </tr>\n",
       "    <tr>\n",
       "      <th>mean</th>\n",
       "      <td>479.211637</td>\n",
       "      <td>484.118506</td>\n",
       "      <td>473.942858</td>\n",
       "      <td>478.998547</td>\n",
       "      <td>410.424332</td>\n",
       "      <td>9.340225e+06</td>\n",
       "      <td>0.038255</td>\n",
       "      <td>0.839089</td>\n",
       "      <td>0.122647</td>\n",
       "      <td>0.324001</td>\n",
       "    </tr>\n",
       "    <tr>\n",
       "      <th>std</th>\n",
       "      <td>77.425601</td>\n",
       "      <td>78.230387</td>\n",
       "      <td>76.251665</td>\n",
       "      <td>77.274593</td>\n",
       "      <td>73.112385</td>\n",
       "      <td>1.039478e+07</td>\n",
       "      <td>0.064559</td>\n",
       "      <td>0.119690</td>\n",
       "      <td>0.106299</td>\n",
       "      <td>0.443357</td>\n",
       "    </tr>\n",
       "    <tr>\n",
       "      <th>min</th>\n",
       "      <td>275.750000</td>\n",
       "      <td>279.725006</td>\n",
       "      <td>273.250000</td>\n",
       "      <td>276.500000</td>\n",
       "      <td>224.011276</td>\n",
       "      <td>0.000000e+00</td>\n",
       "      <td>0.000000</td>\n",
       "      <td>0.435000</td>\n",
       "      <td>0.000000</td>\n",
       "      <td>-0.940900</td>\n",
       "    </tr>\n",
       "    <tr>\n",
       "      <th>25%</th>\n",
       "      <td>430.318756</td>\n",
       "      <td>434.812500</td>\n",
       "      <td>427.428131</td>\n",
       "      <td>431.787506</td>\n",
       "      <td>356.004318</td>\n",
       "      <td>5.407391e+06</td>\n",
       "      <td>0.000000</td>\n",
       "      <td>0.761000</td>\n",
       "      <td>0.000000</td>\n",
       "      <td>0.000000</td>\n",
       "    </tr>\n",
       "    <tr>\n",
       "      <th>50%</th>\n",
       "      <td>489.649994</td>\n",
       "      <td>493.750000</td>\n",
       "      <td>483.524994</td>\n",
       "      <td>488.750000</td>\n",
       "      <td>425.422699</td>\n",
       "      <td>7.117466e+06</td>\n",
       "      <td>0.000000</td>\n",
       "      <td>0.844000</td>\n",
       "      <td>0.112000</td>\n",
       "      <td>0.361200</td>\n",
       "    </tr>\n",
       "    <tr>\n",
       "      <th>75%</th>\n",
       "      <td>536.937500</td>\n",
       "      <td>541.537506</td>\n",
       "      <td>529.750000</td>\n",
       "      <td>536.250000</td>\n",
       "      <td>462.128112</td>\n",
       "      <td>9.973569e+06</td>\n",
       "      <td>0.063000</td>\n",
       "      <td>0.927000</td>\n",
       "      <td>0.189000</td>\n",
       "      <td>0.726900</td>\n",
       "    </tr>\n",
       "    <tr>\n",
       "      <th>max</th>\n",
       "      <td>633.500000</td>\n",
       "      <td>639.650024</td>\n",
       "      <td>630.025024</td>\n",
       "      <td>633.799988</td>\n",
       "      <td>546.905090</td>\n",
       "      <td>1.663204e+08</td>\n",
       "      <td>0.515000</td>\n",
       "      <td>1.000000</td>\n",
       "      <td>0.565000</td>\n",
       "      <td>0.998200</td>\n",
       "    </tr>\n",
       "  </tbody>\n",
       "</table>\n",
       "</div>"
      ],
      "text/plain": [
       "              Open         High          Low        Close    Adj Close  \\\n",
       "count  1079.000000  1079.000000  1079.000000  1079.000000  1079.000000   \n",
       "mean    479.211637   484.118506   473.942858   478.998547   410.424332   \n",
       "std      77.425601    78.230387    76.251665    77.274593    73.112385   \n",
       "min     275.750000   279.725006   273.250000   276.500000   224.011276   \n",
       "25%     430.318756   434.812500   427.428131   431.787506   356.004318   \n",
       "50%     489.649994   493.750000   483.524994   488.750000   425.422699   \n",
       "75%     536.937500   541.537506   529.750000   536.250000   462.128112   \n",
       "max     633.500000   639.650024   630.025024   633.799988   546.905090   \n",
       "\n",
       "             Volume          neg          neu          pos     compound  \n",
       "count  1.079000e+03  1079.000000  1079.000000  1079.000000  1079.000000  \n",
       "mean   9.340225e+06     0.038255     0.839089     0.122647     0.324001  \n",
       "std    1.039478e+07     0.064559     0.119690     0.106299     0.443357  \n",
       "min    0.000000e+00     0.000000     0.435000     0.000000    -0.940900  \n",
       "25%    5.407391e+06     0.000000     0.761000     0.000000     0.000000  \n",
       "50%    7.117466e+06     0.000000     0.844000     0.112000     0.361200  \n",
       "75%    9.973569e+06     0.063000     0.927000     0.189000     0.726900  \n",
       "max    1.663204e+08     0.515000     1.000000     0.565000     0.998200  "
      ]
     },
     "execution_count": 30,
     "metadata": {},
     "output_type": "execute_result"
    }
   ],
   "source": [
    "merge_df.describe()"
   ]
  },
  {
   "cell_type": "code",
   "execution_count": 31,
   "metadata": {
    "scrolled": true
   },
   "outputs": [
    {
     "data": {
      "text/plain": [
       "<matplotlib.axes._subplots.AxesSubplot at 0x21a244d1040>"
      ]
     },
     "execution_count": 31,
     "metadata": {},
     "output_type": "execute_result"
    },
    {
     "data": {
      "image/png": "[encoded data removed]",
      "text/plain": [
       "<Figure size 864x648 with 2 Axes>"
      ]
     },
     "metadata": {
      "needs_background": "light"
     },
     "output_type": "display_data"
    }
   ],
   "source": [
    "plt.figure(figsize = (12,9))\n",
    "sns.heatmap(merge_df.corr(),cmap='viridis', annot=True)"
   ]
  },
  {
   "cell_type": "markdown",
   "metadata": {},
   "source": [
    "##### News sentiment doesnt show any correlation with stock data. Whatever! making stupid decisions is always in me."
   ]
  },
  {
   "cell_type": "markdown",
   "metadata": {},
   "source": [
    "##### Considering Compound value only"
   ]
  },
  {
   "cell_type": "code",
   "execution_count": 32,
   "metadata": {},
   "outputs": [
    {
     "data": {
      "text/plain": [
       "(1079, 10)"
      ]
     },
     "execution_count": 32,
     "metadata": {},
     "output_type": "execute_result"
    }
   ],
   "source": [
    "merge_df.shape"
   ]
  },
  {
   "cell_type": "code",
   "execution_count": 33,
   "metadata": {},
   "outputs": [],
   "source": [
    "def series_data(df, series_len):\n",
    "    X_close = []\n",
    "    X_open = []\n",
    "    X_compound = []\n",
    "    X_volume = []\n",
    "    y = []\n",
    "    for i in range(len(df) - series_len):\n",
    "        opn = df.iloc[i:(i + series_len), 0]\n",
    "        close = df.iloc[i:(i + series_len), 4]\n",
    "        compound = df.iloc[i:(i + series_len), 9]\n",
    "        volume = df.iloc[i:(i + series_len), 5]\n",
    "        target = df.iloc[(i + series_len), 4]\n",
    "        X_close.append(close)\n",
    "        X_open.append(opn)\n",
    "        X_compound.append(compound)\n",
    "        X_volume.append(volume)\n",
    "        y.append(target)\n",
    "    return np.hstack((X_open, X_close, X_volume, X_compound)), np.array(y).reshape(-1, 1)"
   ]
  },
  {
   "cell_type": "code",
   "execution_count": 34,
   "metadata": {},
   "outputs": [
    {
     "data": {
      "text/html": [
       "<div>\n",
       "<style scoped>\n",
       "    .dataframe tbody tr th:only-of-type {\n",
       "        vertical-align: middle;\n",
       "    }\n",
       "\n",
       "    .dataframe tbody tr th {\n",
       "        vertical-align: top;\n",
       "    }\n",
       "\n",
       "    .dataframe thead th {\n",
       "        text-align: right;\n",
       "    }\n",
       "</style>\n",
       "<table border=\"1\" class=\"dataframe\">\n",
       "  <thead>\n",
       "    <tr style=\"text-align: right;\">\n",
       "      <th></th>\n",
       "      <th>Open</th>\n",
       "      <th>High</th>\n",
       "      <th>Low</th>\n",
       "      <th>Close</th>\n",
       "      <th>Adj Close</th>\n",
       "      <th>Volume</th>\n",
       "      <th>neg</th>\n",
       "      <th>neu</th>\n",
       "      <th>pos</th>\n",
       "      <th>compound</th>\n",
       "    </tr>\n",
       "  </thead>\n",
       "  <tbody>\n",
       "    <tr>\n",
       "      <th>2013-01-02</th>\n",
       "      <td>289.524994</td>\n",
       "      <td>291.000000</td>\n",
       "      <td>287.937500</td>\n",
       "      <td>288.649994</td>\n",
       "      <td>233.854797</td>\n",
       "      <td>4349944.0</td>\n",
       "      <td>0.071</td>\n",
       "      <td>0.572</td>\n",
       "      <td>0.357</td>\n",
       "      <td>0.8176</td>\n",
       "    </tr>\n",
       "    <tr>\n",
       "      <th>2013-01-03</th>\n",
       "      <td>289.375000</td>\n",
       "      <td>293.606262</td>\n",
       "      <td>288.875000</td>\n",
       "      <td>292.237488</td>\n",
       "      <td>236.761337</td>\n",
       "      <td>10599288.0</td>\n",
       "      <td>0.076</td>\n",
       "      <td>0.825</td>\n",
       "      <td>0.100</td>\n",
       "      <td>0.1779</td>\n",
       "    </tr>\n",
       "    <tr>\n",
       "      <th>2013-01-04</th>\n",
       "      <td>293.549988</td>\n",
       "      <td>294.368744</td>\n",
       "      <td>291.500000</td>\n",
       "      <td>293.693756</td>\n",
       "      <td>237.941101</td>\n",
       "      <td>8454008.0</td>\n",
       "      <td>0.064</td>\n",
       "      <td>0.796</td>\n",
       "      <td>0.141</td>\n",
       "      <td>0.4404</td>\n",
       "    </tr>\n",
       "    <tr>\n",
       "      <th>2013-01-07</th>\n",
       "      <td>293.887512</td>\n",
       "      <td>297.487488</td>\n",
       "      <td>291.943756</td>\n",
       "      <td>296.850006</td>\n",
       "      <td>240.498215</td>\n",
       "      <td>8761624.0</td>\n",
       "      <td>0.000</td>\n",
       "      <td>0.907</td>\n",
       "      <td>0.093</td>\n",
       "      <td>0.5106</td>\n",
       "    </tr>\n",
       "    <tr>\n",
       "      <th>2013-01-08</th>\n",
       "      <td>295.625000</td>\n",
       "      <td>295.993744</td>\n",
       "      <td>290.437500</td>\n",
       "      <td>293.000000</td>\n",
       "      <td>237.379059</td>\n",
       "      <td>12867424.0</td>\n",
       "      <td>0.000</td>\n",
       "      <td>0.910</td>\n",
       "      <td>0.090</td>\n",
       "      <td>0.4515</td>\n",
       "    </tr>\n",
       "  </tbody>\n",
       "</table>\n",
       "</div>"
      ],
      "text/plain": [
       "                  Open        High         Low       Close   Adj Close  \\\n",
       "2013-01-02  289.524994  291.000000  287.937500  288.649994  233.854797   \n",
       "2013-01-03  289.375000  293.606262  288.875000  292.237488  236.761337   \n",
       "2013-01-04  293.549988  294.368744  291.500000  293.693756  237.941101   \n",
       "2013-01-07  293.887512  297.487488  291.943756  296.850006  240.498215   \n",
       "2013-01-08  295.625000  295.993744  290.437500  293.000000  237.379059   \n",
       "\n",
       "                Volume    neg    neu    pos  compound  \n",
       "2013-01-02   4349944.0  0.071  0.572  0.357    0.8176  \n",
       "2013-01-03  10599288.0  0.076  0.825  0.100    0.1779  \n",
       "2013-01-04   8454008.0  0.064  0.796  0.141    0.4404  \n",
       "2013-01-07   8761624.0  0.000  0.907  0.093    0.5106  \n",
       "2013-01-08  12867424.0  0.000  0.910  0.090    0.4515  "
      ]
     },
     "execution_count": 34,
     "metadata": {},
     "output_type": "execute_result"
    }
   ],
   "source": [
    "merge_df.head(5)"
   ]
  },
  {
   "cell_type": "code",
   "execution_count": 35,
   "metadata": {},
   "outputs": [],
   "source": [
    "X, y= series_data(merge_df, series_len=3)#data series for 3days"
   ]
  },
  {
   "cell_type": "code",
   "execution_count": 79,
   "metadata": {},
   "outputs": [
    {
     "name": "stdout",
     "output_type": "stream",
     "text": [
      "Name: pandasNote: you may need to restart the kernel to use updated packages.\n",
      "Version: 1.2.4\n",
      "Summary: Powerful data structures for data analysis, time series, and statistics\n",
      "Home-page: https://pandas.pydata.org\n",
      "Author: None\n",
      "Author-email: None\n",
      "License: BSD\n",
      "Location: c:\\users\\prana\\anaconda3\\lib\\site-packages\n",
      "Requires: numpy, python-dateutil, pytz\n",
      "Required-by: statsmodels, seaborn, mplfinance\n",
      "\n"
     ]
    }
   ],
   "source": [
    "pip show pandas"
   ]
  },
  {
   "cell_type": "code",
   "execution_count": 36,
   "metadata": {
    "scrolled": false
   },
   "outputs": [
    {
     "data": {
      "text/plain": [
       "array([2.89524994e+02, 2.89375000e+02, 2.93549988e+02, 2.33854797e+02,\n",
       "       2.36761337e+02, 2.37941101e+02, 4.34994400e+06, 1.05992880e+07,\n",
       "       8.45400800e+06, 8.17600000e-01, 1.77900000e-01, 4.40400000e-01])"
      ]
     },
     "execution_count": 36,
     "metadata": {},
     "output_type": "execute_result"
    }
   ],
   "source": [
    "X[0]"
   ]
  },
  {
   "cell_type": "code",
   "execution_count": 37,
   "metadata": {},
   "outputs": [],
   "source": [
    "split = int(0.7 * len(X))\n",
    "\n",
    "X_train = X[: split]\n",
    "X_test = X[split:]\n",
    "y_train = y[: split]\n",
    "y_test = y[split:]"
   ]
  },
  {
   "cell_type": "markdown",
   "metadata": {},
   "source": [
    "### Scaling"
   ]
  },
  {
   "cell_type": "code",
   "execution_count": 38,
   "metadata": {},
   "outputs": [],
   "source": [
    "from sklearn.preprocessing import MinMaxScaler"
   ]
  },
  {
   "cell_type": "code",
   "execution_count": 39,
   "metadata": {},
   "outputs": [],
   "source": [
    "x_train_scaler = MinMaxScaler()\n",
    "x_test_scaler = MinMaxScaler()\n",
    "y_train_scaler = MinMaxScaler()\n",
    "y_test_scaler = MinMaxScaler()\n",
    "\n",
    "x_train_scaler.fit(X_train)\n",
    "y_train_scaler.fit(y_train)\n",
    "\n",
    "X_train = x_train_scaler.transform(X_train)\n",
    "y_train = y_train_scaler.transform(y_train)\n",
    "\n",
    "x_test_scaler.fit(X_test)\n",
    "y_test_scaler.fit(y_test)\n",
    "\n",
    "X_test = x_test_scaler.transform(X_test)\n",
    "y_test = y_test_scaler.transform(y_test)\n"
   ]
  },
  {
   "cell_type": "code",
   "execution_count": 40,
   "metadata": {
    "scrolled": true
   },
   "outputs": [
    {
     "data": {
      "text/plain": [
       "array([[0.03850453, 0.03808526, 0.04975538, 0.03048532, 0.03948685,\n",
       "        0.04314058, 0.026154  , 0.06372813, 0.05082965, 0.90686401,\n",
       "        0.5769687 , 0.71234078],\n",
       "       [0.03808526, 0.04975538, 0.05069885, 0.03948685, 0.04314058,\n",
       "        0.05105994, 0.06372813, 0.05082965, 0.05267919, 0.5769687 ,\n",
       "        0.71234078, 0.74854314],\n",
       "       [0.04975538, 0.05069885, 0.05555556, 0.04314058, 0.05105994,\n",
       "        0.04139994, 0.05082965, 0.05267919, 0.07736527, 0.71234078,\n",
       "        0.74854314, 0.71806508],\n",
       "       [0.05069885, 0.05555556, 0.04689027, 0.05105994, 0.04139994,\n",
       "        0.03732261, 0.05267919, 0.07736527, 0.03697663, 0.74854314,\n",
       "        0.71806508, 0.7310608 ],\n",
       "       [0.05555556, 0.04689027, 0.04367575, 0.04139994, 0.03732261,\n",
       "        0.03459421, 0.07736527, 0.03697663, 0.06554226, 0.71806508,\n",
       "        0.7310608 , 0.39348151]])"
      ]
     },
     "execution_count": 40,
     "metadata": {},
     "output_type": "execute_result"
    }
   ],
   "source": [
    "X_train[:5]"
   ]
  },
  {
   "cell_type": "code",
   "execution_count": 41,
   "metadata": {
    "scrolled": true
   },
   "outputs": [
    {
     "data": {
      "text/plain": [
       "array([0.05105994, 0.04139994, 0.03732261, 0.03459421, 0.15684904])"
      ]
     },
     "execution_count": 41,
     "metadata": {},
     "output_type": "execute_result"
    }
   ],
   "source": [
    "y_train[:5].ravel()"
   ]
  },
  {
   "cell_type": "markdown",
   "metadata": {},
   "source": [
    "# XGB"
   ]
  },
  {
   "cell_type": "code",
   "execution_count": 47,
   "metadata": {},
   "outputs": [],
   "source": [
    "from xgboost import XGBRegressor"
   ]
  },
  {
   "cell_type": "code",
   "execution_count": 48,
   "metadata": {},
   "outputs": [],
   "source": [
    "model = XGBRegressor(objective='reg:squarederror', n_estimators=1000)"
   ]
  },
  {
   "cell_type": "code",
   "execution_count": 49,
   "metadata": {
    "scrolled": true
   },
   "outputs": [
    {
     "data": {
      "text/plain": [
       "XGBRegressor(base_score=0.5, booster='gbtree', colsample_bylevel=1,\n",
       "             colsample_bynode=1, colsample_bytree=1, gamma=0, gpu_id=-1,\n",
       "             importance_type='gain', interaction_constraints='',\n",
       "             learning_rate=0.300000012, max_delta_step=0, max_depth=6,\n",
       "             min_child_weight=1, missing=nan, monotone_constraints='()',\n",
       "             n_estimators=1000, n_jobs=4, num_parallel_tree=1, random_state=0,\n",
       "             reg_alpha=0, reg_lambda=1, scale_pos_weight=1, subsample=1,\n",
       "             tree_method='exact', validate_parameters=1, verbosity=None)"
      ]
     },
     "execution_count": 49,
     "metadata": {},
     "output_type": "execute_result"
    }
   ],
   "source": [
    "model.fit(X_train, y_train.ravel())"
   ]
  },
  {
   "cell_type": "code",
   "execution_count": 50,
   "metadata": {},
   "outputs": [],
   "source": [
    "prediction = model.predict(X_test)"
   ]
  },
  {
   "cell_type": "code",
   "execution_count": 51,
   "metadata": {},
   "outputs": [],
   "source": [
    "def RMSE(real, pred):\n",
    "    print('RMSE:', np.sqrt(tf.keras.metrics.mean_squared_error(real.ravel(), pred.ravel())))"
   ]
  },
  {
   "cell_type": "code",
   "execution_count": 52,
   "metadata": {},
   "outputs": [],
   "source": [
    "def pred_vs_real_plot(pred, real):\n",
    "    plt.figure(figsize=(12,6))\n",
    "    x_axis = np.arange(len(pred))\n",
    "    sns.lineplot(x_axis, pred, label='Predicted')\n",
    "    sns.lineplot(x_axis, real, label='True')"
   ]
  },
  {
   "cell_type": "code",
   "execution_count": 53,
   "metadata": {},
   "outputs": [
    {
     "name": "stdout",
     "output_type": "stream",
     "text": [
      "RMSE: 0.051307227\n"
     ]
    }
   ],
   "source": [
    "RMSE(y_test, prediction)"
   ]
  },
  {
   "cell_type": "code",
   "execution_count": 60,
   "metadata": {},
   "outputs": [
    {
     "name": "stderr",
     "output_type": "stream",
     "text": [
      "/opt/anaconda/lib/python3.8/site-packages/seaborn/_decorators.py:36: FutureWarning: Pass the following variables as keyword args: x, y. From version 0.12, the only valid positional argument will be `data`, and passing other arguments without an explicit keyword will result in an error or misinterpretation.\n",
      "  warnings.warn(\n",
      "/opt/anaconda/lib/python3.8/site-packages/seaborn/_decorators.py:36: FutureWarning: Pass the following variables as keyword args: x, y. From version 0.12, the only valid positional argument will be `data`, and passing other arguments without an explicit keyword will result in an error or misinterpretation.\n",
      "  warnings.warn(\n"
     ]
    },
    {
     "data": {
      "image/png": "[encoded data removed]",
      "text/plain": [
       "<Figure size 864x432 with 1 Axes>"
      ]
     },
     "metadata": {
      "needs_background": "light"
     },
     "output_type": "display_data"
    }
   ],
   "source": [
    "pred_vs_real_plot(prediction, y_test.ravel())"
   ]
  },
  {
   "cell_type": "markdown",
   "metadata": {},
   "source": [
    "# LSTM"
   ]
  },
  {
   "cell_type": "code",
   "execution_count": 61,
   "metadata": {},
   "outputs": [],
   "source": [
    "def create_LSTM(dropout):\n",
    "    model = Sequential()\n",
    "    neurons = 12 # 4 features x 3 days\n",
    "    \n",
    "    model.add(LSTM(units=neurons,\n",
    "        return_sequences=True,\n",
    "        input_shape=(X_train.shape[1], 1)))\n",
    "\n",
    "    model.add(Dropout(dropout))\n",
    "    model.add(LSTM(units=neurons, return_sequences=True))\n",
    "    model.add(Dropout(dropout))\n",
    "    model.add(LSTM(units=neurons))\n",
    "    model.add(Dropout(dropout))\n",
    "\n",
    "    model.add(Dense(1))\n",
    "    return model"
   ]
  },
  {
   "cell_type": "code",
   "execution_count": 62,
   "metadata": {},
   "outputs": [],
   "source": [
    "es = tf.keras.callbacks.EarlyStopping(monitor='loss', patience=3)"
   ]
  },
  {
   "cell_type": "code",
   "execution_count": 63,
   "metadata": {},
   "outputs": [],
   "source": [
    "model = create_LSTM(0.2)\n",
    "model.compile(optimizer=\"adam\", loss=\"mse\")"
   ]
  },
  {
   "cell_type": "code",
   "execution_count": 64,
   "metadata": {},
   "outputs": [
    {
     "name": "stdout",
     "output_type": "stream",
     "text": [
      "Model: \"sequential\"\n",
      "_________________________________________________________________\n",
      "Layer (type)                 Output Shape              Param #   \n",
      "=================================================================\n",
      "lstm (LSTM)                  (None, 12, 12)            672       \n",
      "_________________________________________________________________\n",
      "dropout (Dropout)            (None, 12, 12)            0         \n",
      "_________________________________________________________________\n",
      "lstm_1 (LSTM)                (None, 12, 12)            1200      \n",
      "_________________________________________________________________\n",
      "dropout_1 (Dropout)          (None, 12, 12)            0         \n",
      "_________________________________________________________________\n",
      "lstm_2 (LSTM)                (None, 12)                1200      \n",
      "_________________________________________________________________\n",
      "dropout_2 (Dropout)          (None, 12)                0         \n",
      "_________________________________________________________________\n",
      "dense (Dense)                (None, 1)                 13        \n",
      "=================================================================\n",
      "Total params: 3,085\n",
      "Trainable params: 3,085\n",
      "Non-trainable params: 0\n",
      "_________________________________________________________________\n"
     ]
    }
   ],
   "source": [
    "model.summary()"
   ]
  },
  {
   "cell_type": "code",
   "execution_count": 65,
   "metadata": {},
   "outputs": [],
   "source": [
    "X_train = X_train.reshape((X_train.shape[0], X_train.shape[1], 1))\n",
    "X_test = X_test.reshape((X_test.shape[0], X_test.shape[1], 1))\n"
   ]
  },
  {
   "cell_type": "code",
   "execution_count": 66,
   "metadata": {},
   "outputs": [
    {
     "name": "stdout",
     "output_type": "stream",
     "text": [
      "Epoch 1/20\n",
      "24/24 [==============================] - 3s 10ms/step - loss: 0.1299\n",
      "Epoch 2/20\n",
      "24/24 [==============================] - 0s 9ms/step - loss: 0.0460\n",
      "Epoch 3/20\n",
      "24/24 [==============================] - 0s 9ms/step - loss: 0.0507\n",
      "Epoch 4/20\n",
      "24/24 [==============================] - 0s 9ms/step - loss: 0.0373\n",
      "Epoch 5/20\n",
      "24/24 [==============================] - 0s 9ms/step - loss: 0.0292\n",
      "Epoch 6/20\n",
      "24/24 [==============================] - 0s 9ms/step - loss: 0.0216\n",
      "Epoch 7/20\n",
      "24/24 [==============================] - 0s 9ms/step - loss: 0.0152\n",
      "Epoch 8/20\n",
      "24/24 [==============================] - 0s 9ms/step - loss: 0.0185\n",
      "Epoch 9/20\n",
      "24/24 [==============================] - 0s 10ms/step - loss: 0.0165\n",
      "Epoch 10/20\n",
      "24/24 [==============================] - 0s 9ms/step - loss: 0.0133\n",
      "Epoch 11/20\n",
      "24/24 [==============================] - 0s 9ms/step - loss: 0.0104\n",
      "Epoch 12/20\n",
      "24/24 [==============================] - 0s 9ms/step - loss: 0.0124\n",
      "Epoch 13/20\n",
      "24/24 [==============================] - 0s 9ms/step - loss: 0.0119\n",
      "Epoch 14/20\n",
      "24/24 [==============================] - 0s 9ms/step - loss: 0.0109\n"
     ]
    },
    {
     "data": {
      "text/plain": [
       "<tensorflow.python.keras.callbacks.History at 0x7fbb180884c0>"
      ]
     },
     "execution_count": 66,
     "metadata": {},
     "output_type": "execute_result"
    }
   ],
   "source": [
    "model.fit(X_train, y_train, epochs=20, shuffle=False, callbacks=[es])"
   ]
  },
  {
   "cell_type": "code",
   "execution_count": 67,
   "metadata": {},
   "outputs": [],
   "source": [
    "predictions = model.predict(X_test)"
   ]
  },
  {
   "cell_type": "code",
   "execution_count": 68,
   "metadata": {},
   "outputs": [],
   "source": [
    "predicted_prices = y_test_scaler.inverse_transform(predictions).ravel()\n",
    "real_prices = y_test_scaler.inverse_transform(y_test.reshape(-1, 1)).ravel()"
   ]
  },
  {
   "cell_type": "code",
   "execution_count": 70,
   "metadata": {},
   "outputs": [
    {
     "name": "stdout",
     "output_type": "stream",
     "text": [
      "RMSE: 10.960277\n"
     ]
    }
   ],
   "source": [
    "RMSE(real_prices, predicted_prices)"
   ]
  },
  {
   "cell_type": "code",
   "execution_count": 71,
   "metadata": {},
   "outputs": [
    {
     "name": "stderr",
     "output_type": "stream",
     "text": [
      "/opt/anaconda/lib/python3.8/site-packages/seaborn/_decorators.py:36: FutureWarning: Pass the following variables as keyword args: x, y. From version 0.12, the only valid positional argument will be `data`, and passing other arguments without an explicit keyword will result in an error or misinterpretation.\n",
      "  warnings.warn(\n",
      "/opt/anaconda/lib/python3.8/site-packages/seaborn/_decorators.py:36: FutureWarning: Pass the following variables as keyword args: x, y. From version 0.12, the only valid positional argument will be `data`, and passing other arguments without an explicit keyword will result in an error or misinterpretation.\n",
      "  warnings.warn(\n"
     ]
    },
    {
     "data": {
      "image/png": "[encoded data removed]",
      "text/plain": [
       "<Figure size 864x432 with 1 Axes>"
      ]
     },
     "metadata": {
      "needs_background": "light"
     },
     "output_type": "display_data"
    }
   ],
   "source": [
    "pred_vs_real_plot(predicted_prices, real_prices)"
   ]
  },
  {
   "cell_type": "code",
   "execution_count": null,
   "metadata": {},
   "outputs": [],
   "source": []
  }
 ],
 "metadata": {
  "kernelspec": {
   "display_name": "Python 3",
   "language": "python",
   "name": "python3"
  },
  "language_info": {
   "codemirror_mode": {
    "name": "ipython",
    "version": 3
   },
   "file_extension": ".py",
   "mimetype": "text/x-python",
   "name": "python",
   "nbconvert_exporter": "python",
   "pygments_lexer": "ipython3",
   "version": "3.8.3"
  }
 },
 "nbformat": 4,
 "nbformat_minor": 5
}
